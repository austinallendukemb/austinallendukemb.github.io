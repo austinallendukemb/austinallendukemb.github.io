{
 "cells": [
  {
   "cell_type": "code",
   "execution_count": null,
   "metadata": {},
   "outputs": [],
   "source": [
    "import numpy as np\n",
    "import plotly.express as px"
   ]
  },
  {
   "cell_type": "markdown",
   "metadata": {},
   "source": [
    "## Simulation\n",
    "\n",
    "Missing Data We will explore missing data mechanisms and basic imputation strategies. Follow these steps showing your code. Don’t forget to set your seeds.\n",
    "\n",
    "### Part a\n",
    "\n",
    "Set your number of people ’n’ to 1000"
   ]
  },
  {
   "cell_type": "code",
   "execution_count": null,
   "metadata": {},
   "outputs": [],
   "source": [
    "# Setting sample size 'n' to 1,000\n",
    "n = 1000"
   ]
  },
  {
   "cell_type": "markdown",
   "metadata": {},
   "source": [
    "### Part b\n",
    "\n",
    "Simulate a variable Z ∼ N(0,1)"
   ]
  },
  {
   "cell_type": "code",
   "execution_count": null,
   "metadata": {},
   "outputs": [],
   "source": [
    "z = np.random.normal(0, 1, n)"
   ]
  },
  {
   "cell_type": "markdown",
   "metadata": {},
   "source": [
    "### Part c\n",
    "\n",
    "Simulate a variable X where the data generating distribution is: X = Z + ε where ε ∼ N(0,1)\n"
   ]
  },
  {
   "cell_type": "markdown",
   "metadata": {},
   "source": [
    "### Part d\n",
    "\n",
    "Calculate the mean of X"
   ]
  },
  {
   "cell_type": "markdown",
   "metadata": {},
   "source": [
    "### Part e\n",
    "\n",
    "Make 10% of the X values missing. Calculate the mean of this new X. Comment on any differences or similarities\n",
    "\n",
    "i. What is the missing data mechanism? \n",
    "ii. Do we expect $E(X^c) = E(X^o)$?\n",
    "iii. Using the mean of the observed X values, impute in the missing X-values\n",
    "iv. Does this change our estimate for the mean of X? Do we expect it to?\n",
    "    - **Hint**: If you are unsure if your empirical (estimated) means are similar enough you can consider calculating 95% CIs for the mean\n"
   ]
  },
  {
   "cell_type": "markdown",
   "metadata": {},
   "source": [
    "### Part f\n",
    "\n",
    "Return to your complete data. Among Z > 0, make 10% of the X values missing. Calculate the mean of this new X. Comment on any differences or similarities\n",
    "\n",
    "i. What is the missing data mechanism? \n",
    "ii. Do we expect $E(X^c) = E(X^o)$?\n",
    "iii. Using the mean of the observed X values, impute in the missing X-values Does this improve our estimate of teh mean of X?\n",
    "iv. We will perform conditional imputation\n",
    "    1. Using the observed X,Z pairs fit a linear regression model, regressing X onto Z. This can be thought of as a simple predictive model for X based on Z.\n",
    "    2.  Using this fit, generate predictive values for X, based on Z. hint: use the predict() function for lm.\n",
    "    3.  Calculate new imputed mean of X. How does this compare to the true mean of X?"
   ]
  },
  {
   "cell_type": "markdown",
   "metadata": {},
   "source": [
    "### Part g\n",
    "\n",
    "What would happen if in (f) we had set the missingness degree to be 100%? Would we be able to recover the true mean value?\n",
    "\n",
    "**Further Exploration**: If you are inclined, go back to (f) and vary that percentage. At what point are we unable to recover the true value. Feel free to make any graphical results to justify your findings.\n"
   ]
  }
 ],
 "metadata": {
  "kernelspec": {
   "display_name": "Python 3",
   "language": "python",
   "name": "python3"
  },
  "language_info": {
   "name": "python",
   "version": "3.12.1"
  }
 },
 "nbformat": 4,
 "nbformat_minor": 2
}
